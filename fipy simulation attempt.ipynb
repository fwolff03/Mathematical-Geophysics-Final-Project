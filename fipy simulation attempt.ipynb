{
 "cells": [
  {
   "cell_type": "markdown",
   "id": "f438dbf7-22f9-47ab-a3db-6617a13d9ae9",
   "metadata": {},
   "source": [
    "# Attempt 1 - fipy software\n",
    "After spending roughly 20 hours trying to set up and simulate the 1D stready state Saint-Venant Equations on fipy, I talked to Elieen and we decided it would be best to scrap fipy and use pretested software for these equations since fipy is complex. However, she said to still turn this work in with some additional documentation to show that I attempted to do it from \"scratch\" and tried my best. "
   ]
  },
  {
   "cell_type": "markdown",
   "id": "15153951-dce8-42dd-8819-76c9f646b938",
   "metadata": {},
   "source": [
    "First, I imported fipy and the functions I planed to use."
   ]
  },
  {
   "cell_type": "code",
   "execution_count": 10,
   "id": "9425ff8a-db26-4a15-b38e-dbfd2171f5aa",
   "metadata": {},
   "outputs": [],
   "source": [
    "# imports\n",
    "#!pip install fipy\n",
    "from fipy import Variable, FaceVariable, CellVariable, Grid1D, ExplicitDiffusionTerm, TransientTerm, DiffusionTerm, Viewer, ImplicitSourceTerm\n",
    "from fipy.tools import numerix"
   ]
  },
  {
   "cell_type": "markdown",
   "id": "e7f551f2-aee9-4c47-920f-4e9d713902cc",
   "metadata": {},
   "source": [
    "Here I define the constants for the simulation. We have gravitional acceleration, mannings coefficent and the channel length. The mannings coefficient is for a concrete. Then the length of the channel is 1000 meters so we elimate as much wave feedback as possible.  "
   ]
  },
  {
   "cell_type": "code",
   "execution_count": 11,
   "id": "542238ca-5c4e-4493-8510-26c72dcc5b54",
   "metadata": {},
   "outputs": [],
   "source": [
    "# constants\n",
    "\n",
    "# g (m/s^2)\n",
    "g = 9.81\n",
    "# mannings coefficient\n",
    "n = 0.012\n",
    "# length of the channel (m)\n",
    "channel_length = 1000  "
   ]
  },
  {
   "cell_type": "markdown",
   "id": "4c6e7d83-e743-41a5-8d03-01393f8d391c",
   "metadata": {},
   "source": [
    "Here we define the mesh which provides the basis for the grid which we can set boundry conditions to and will help the software solve the PDE's. Then we generate the mesh in the cell below. "
   ]
  },
  {
   "cell_type": "code",
   "execution_count": 12,
   "id": "29a0aa79-6aef-43ef-aa5f-c7ac82fe1338",
   "metadata": {},
   "outputs": [],
   "source": [
    "# mesh set up\n",
    "nx = 100\n",
    "Lx = channel_length"
   ]
  },
  {
   "cell_type": "code",
   "execution_count": 13,
   "id": "3fd9cfba-df32-4dff-93ee-b78f09cd5523",
   "metadata": {},
   "outputs": [],
   "source": [
    "# create the mesh\n",
    "mesh = Grid1D(nx=nx, Lx=Lx)"
   ]
  },
  {
   "cell_type": "markdown",
   "id": "b9aaf845-e511-4fc5-a016-148e3a394b20",
   "metadata": {},
   "source": [
    "Here we create the varibles. In these PDE's the varibles are the water depth and the flow velocity. Initally, we had set values for both h and u but realized since it is a steady state, there would be no \"inital values\". "
   ]
  },
  {
   "cell_type": "code",
   "execution_count": 14,
   "id": "358e9300-e8f4-495a-9c90-46cd3be19297",
   "metadata": {},
   "outputs": [],
   "source": [
    "# creaye variables\n",
    "h = CellVariable(mesh=mesh, name='water depth') #had value = 0 and one but removed becuase its steady state\n",
    "u = CellVariable(mesh=mesh, name='flow velocity')"
   ]
  },
  {
   "cell_type": "markdown",
   "id": "aa437b8a-56a5-4163-bdcb-44679538ba85",
   "metadata": {},
   "source": [
    "Then we define the friction slope or Sf. Sf is found from Mannings equation using the constants defined above."
   ]
  },
  {
   "cell_type": "code",
   "execution_count": 15,
   "id": "7d448926-916b-4ef5-b61b-f9347aafb587",
   "metadata": {},
   "outputs": [],
   "source": [
    "# define/create Sf\n",
    "Sf = (n**2 * abs(u) * u) / (h**(4/3))"
   ]
  },
  {
   "cell_type": "markdown",
   "id": "0402dc72-bd93-4bf2-82b6-782161508350",
   "metadata": {},
   "source": [
    "Here is where we had the most difficulty due to the number of options avaible in fipy. Initally we had both equations only using diffusion terms since the documentaion primarly using diffusion terms. I believe that is because they are the simplst to use. However, in the eq1, the term should be the advection term since it is dealing with the transport of mass. In the momentum equation or eq2, the first term should also be an advection term and the last should be a source. I am not sure what the middle term should be. The advection terms have many pages of examples and very few, written descriptions so I was quite lost. This is when Eileen said I should probably use a different software. Here is a link to the all of the documentation of advection terms: https://www.ctcms.nist.gov/fipy/fipy/generated/fipy.terms.html#fipy.terms.firstOrderAdvectionTerm.FirstOrderAdvectionTerm "
   ]
  },
  {
   "cell_type": "code",
   "execution_count": 16,
   "id": "dd6706f4-8951-4fe5-b040-7cf4f4143385",
   "metadata": {},
   "outputs": [],
   "source": [
    "# create pde's (eq2 may be wrong)\n",
    "eq1 = DiffusionTerm(coeff=1.0, var=u) == 0\n",
    "eq2 = DiffusionTerm(coeff=1.0, var=u**2 * h + (g * h**2) / 2) + g * h * Sf == 0"
   ]
  },
  {
   "cell_type": "markdown",
   "id": "9dfc0029-9d48-4374-9e0e-5e46997b0287",
   "metadata": {},
   "source": [
    "Next I defined the boundry conditions based on other examples they provided for 2 PDE's couppled."
   ]
  },
  {
   "cell_type": "code",
   "execution_count": 17,
   "id": "68a44661-d1be-4599-aab5-15e82a86e264",
   "metadata": {},
   "outputs": [],
   "source": [
    "# set boundary conditions (boundry conditions)\n",
    "\n",
    "# height at x=channel_legth?\n",
    "h.faceGrad.constrain(1, where=mesh.facesRight)\n",
    "# hight at start?\n",
    "h.constrain(100, where=mesh.facesLeft)\n",
    "# steam velocity at x=channel_length?\n",
    "u.faceGrad.constrain(1, where=mesh.facesRight)\n",
    "# stream velocity at start?\n",
    "u.faceGrad.constrain(100, where=mesh.facesLeft)"
   ]
  },
  {
   "cell_type": "markdown",
   "id": "c143296e-7346-430c-99bb-fc88deb1b22a",
   "metadata": {},
   "source": [
    "This step is where I was getting an error, but after some research, I belive it was because of my origional Eq1 and Eq2 being incorrect and them never converging bsed on this article. https://stackoverflow.com/questions/63187771/runtimeerror-factor-is-exactly-singular-and-overflow-encountered-in-square-in"
   ]
  },
  {
   "cell_type": "code",
   "execution_count": 9,
   "id": "ce2254fe-dfeb-44b8-b3c3-7058099e5a2b",
   "metadata": {},
   "outputs": [
    {
     "name": "stderr",
     "output_type": "stream",
     "text": [
      "C:\\Users\\15093\\anaconda3\\Lib\\site-packages\\fipy\\variables\\variable.py:1143: RuntimeWarning: invalid value encountered in divide\n",
      "  return self._BinaryOperatorVariable(lambda a, b: a / b, other)\n"
     ]
    },
    {
     "ename": "RuntimeError",
     "evalue": "Factor is exactly singular",
     "output_type": "error",
     "traceback": [
      "\u001b[1;31m---------------------------------------------------------------------------\u001b[0m",
      "\u001b[1;31mRuntimeError\u001b[0m                              Traceback (most recent call last)",
      "Cell \u001b[1;32mIn[9], line 3\u001b[0m\n\u001b[0;32m      1\u001b[0m \u001b[38;5;66;03m# Solve the equations\u001b[39;00m\n\u001b[0;32m      2\u001b[0m eq \u001b[38;5;241m=\u001b[39m eq1 \u001b[38;5;241m&\u001b[39m eq2\n\u001b[1;32m----> 3\u001b[0m \u001b[43meq\u001b[49m\u001b[38;5;241;43m.\u001b[39;49m\u001b[43msolve\u001b[49m\u001b[43m(\u001b[49m\u001b[43m)\u001b[49m\n",
      "File \u001b[1;32m~\\anaconda3\\Lib\\site-packages\\fipy\\terms\\term.py:178\u001b[0m, in \u001b[0;36mTerm.solve\u001b[1;34m(self, var, solver, boundaryConditions, dt)\u001b[0m\n\u001b[0;32m    157\u001b[0m \u001b[38;5;250m\u001b[39m\u001b[38;5;124mr\u001b[39m\u001b[38;5;124;03m\"\"\"\u001b[39;00m\n\u001b[0;32m    158\u001b[0m \u001b[38;5;124;03mBuilds and solves the `Term`'s linear system once. This method\u001b[39;00m\n\u001b[0;32m    159\u001b[0m \u001b[38;5;124;03mdoes not return the residual. It should be used when the\u001b[39;00m\n\u001b[1;32m   (...)\u001b[0m\n\u001b[0;32m    173\u001b[0m \u001b[38;5;124;03m    Timestep size.\u001b[39;00m\n\u001b[0;32m    174\u001b[0m \u001b[38;5;124;03m\"\"\"\u001b[39;00m\n\u001b[0;32m    176\u001b[0m solver \u001b[38;5;241m=\u001b[39m \u001b[38;5;28mself\u001b[39m\u001b[38;5;241m.\u001b[39m_prepareLinearSystem(var, solver, boundaryConditions, dt)\n\u001b[1;32m--> 178\u001b[0m \u001b[43msolver\u001b[49m\u001b[38;5;241;43m.\u001b[39;49m\u001b[43m_solve\u001b[49m\u001b[43m(\u001b[49m\u001b[43m)\u001b[49m\n",
      "File \u001b[1;32m~\\anaconda3\\Lib\\site-packages\\fipy\\solvers\\scipy\\scipySolver.py:26\u001b[0m, in \u001b[0;36m_ScipySolver._solve\u001b[1;34m(self)\u001b[0m\n\u001b[0;32m     23\u001b[0m \u001b[38;5;28;01mif\u001b[39;00m \u001b[38;5;28mself\u001b[39m\u001b[38;5;241m.\u001b[39mvar\u001b[38;5;241m.\u001b[39mmesh\u001b[38;5;241m.\u001b[39mcommunicator\u001b[38;5;241m.\u001b[39mNproc \u001b[38;5;241m>\u001b[39m \u001b[38;5;241m1\u001b[39m:\n\u001b[0;32m     24\u001b[0m     \u001b[38;5;28;01mraise\u001b[39;00m \u001b[38;5;167;01mException\u001b[39;00m(\u001b[38;5;124m\"\u001b[39m\u001b[38;5;124mSciPy solvers cannot be used with multiple processors\u001b[39m\u001b[38;5;124m\"\u001b[39m)\n\u001b[1;32m---> 26\u001b[0m \u001b[38;5;28mself\u001b[39m\u001b[38;5;241m.\u001b[39mvar[:] \u001b[38;5;241m=\u001b[39m numerix\u001b[38;5;241m.\u001b[39mreshape(\u001b[38;5;28;43mself\u001b[39;49m\u001b[38;5;241;43m.\u001b[39;49m\u001b[43m_solve_\u001b[49m\u001b[43m(\u001b[49m\u001b[38;5;28;43mself\u001b[39;49m\u001b[38;5;241;43m.\u001b[39;49m\u001b[43mmatrix\u001b[49m\u001b[43m,\u001b[49m\u001b[43m \u001b[49m\u001b[38;5;28;43mself\u001b[39;49m\u001b[38;5;241;43m.\u001b[39;49m\u001b[43mvar\u001b[49m\u001b[38;5;241;43m.\u001b[39;49m\u001b[43mravel\u001b[49m\u001b[43m(\u001b[49m\u001b[43m)\u001b[49m\u001b[43m,\u001b[49m\u001b[43m \u001b[49m\u001b[43mnumerix\u001b[49m\u001b[38;5;241;43m.\u001b[39;49m\u001b[43marray\u001b[49m\u001b[43m(\u001b[49m\u001b[38;5;28;43mself\u001b[39;49m\u001b[38;5;241;43m.\u001b[39;49m\u001b[43mRHSvector\u001b[49m\u001b[43m)\u001b[49m\u001b[43m)\u001b[49m, \u001b[38;5;28mself\u001b[39m\u001b[38;5;241m.\u001b[39mvar\u001b[38;5;241m.\u001b[39mshape)\n",
      "File \u001b[1;32m~\\anaconda3\\Lib\\site-packages\\fipy\\solvers\\scipy\\linearLUSolver.py:29\u001b[0m, in \u001b[0;36mLinearLUSolver._solve_\u001b[1;34m(self, L, x, b)\u001b[0m\n\u001b[0;32m     26\u001b[0m L \u001b[38;5;241m=\u001b[39m L \u001b[38;5;241m*\u001b[39m (\u001b[38;5;241m1\u001b[39m \u001b[38;5;241m/\u001b[39m maxdiag)\n\u001b[0;32m     27\u001b[0m b \u001b[38;5;241m=\u001b[39m b \u001b[38;5;241m*\u001b[39m (\u001b[38;5;241m1\u001b[39m \u001b[38;5;241m/\u001b[39m maxdiag)\n\u001b[1;32m---> 29\u001b[0m LU \u001b[38;5;241m=\u001b[39m \u001b[43msplu\u001b[49m\u001b[43m(\u001b[49m\u001b[43mL\u001b[49m\u001b[38;5;241;43m.\u001b[39;49m\u001b[43mmatrix\u001b[49m\u001b[38;5;241;43m.\u001b[39;49m\u001b[43masformat\u001b[49m\u001b[43m(\u001b[49m\u001b[38;5;124;43m\"\u001b[39;49m\u001b[38;5;124;43mcsc\u001b[39;49m\u001b[38;5;124;43m\"\u001b[39;49m\u001b[43m)\u001b[49m\u001b[43m,\u001b[49m\u001b[43m \u001b[49m\u001b[43mdiag_pivot_thresh\u001b[49m\u001b[38;5;241;43m=\u001b[39;49m\u001b[38;5;241;43m1.\u001b[39;49m\u001b[43m,\u001b[49m\n\u001b[0;32m     30\u001b[0m \u001b[43m                                    \u001b[49m\u001b[43mrelax\u001b[49m\u001b[38;5;241;43m=\u001b[39;49m\u001b[38;5;241;43m1\u001b[39;49m\u001b[43m,\u001b[49m\n\u001b[0;32m     31\u001b[0m \u001b[43m                                    \u001b[49m\u001b[43mpanel_size\u001b[49m\u001b[38;5;241;43m=\u001b[39;49m\u001b[38;5;241;43m10\u001b[39;49m\u001b[43m,\u001b[49m\n\u001b[0;32m     32\u001b[0m \u001b[43m                                    \u001b[49m\u001b[43mpermc_spec\u001b[49m\u001b[38;5;241;43m=\u001b[39;49m\u001b[38;5;241;43m3\u001b[39;49m\u001b[43m)\u001b[49m\n\u001b[0;32m     34\u001b[0m error0 \u001b[38;5;241m=\u001b[39m numerix\u001b[38;5;241m.\u001b[39msqrt(numerix\u001b[38;5;241m.\u001b[39msum((L \u001b[38;5;241m*\u001b[39m x \u001b[38;5;241m-\u001b[39m b)\u001b[38;5;241m*\u001b[39m\u001b[38;5;241m*\u001b[39m\u001b[38;5;241m2\u001b[39m))\n\u001b[0;32m     36\u001b[0m \u001b[38;5;28;01mfor\u001b[39;00m iteration \u001b[38;5;129;01min\u001b[39;00m \u001b[38;5;28mrange\u001b[39m(\u001b[38;5;28mmin\u001b[39m(\u001b[38;5;28mself\u001b[39m\u001b[38;5;241m.\u001b[39miterations, \u001b[38;5;241m10\u001b[39m)):\n",
      "File \u001b[1;32m~\\anaconda3\\Lib\\site-packages\\scipy\\sparse\\linalg\\_dsolve\\linsolve.py:414\u001b[0m, in \u001b[0;36msplu\u001b[1;34m(A, permc_spec, diag_pivot_thresh, relax, panel_size, options)\u001b[0m\n\u001b[0;32m    411\u001b[0m \u001b[38;5;28;01mif\u001b[39;00m (_options[\u001b[38;5;124m\"\u001b[39m\u001b[38;5;124mColPerm\u001b[39m\u001b[38;5;124m\"\u001b[39m] \u001b[38;5;241m==\u001b[39m \u001b[38;5;124m\"\u001b[39m\u001b[38;5;124mNATURAL\u001b[39m\u001b[38;5;124m\"\u001b[39m):\n\u001b[0;32m    412\u001b[0m     _options[\u001b[38;5;124m\"\u001b[39m\u001b[38;5;124mSymmetricMode\u001b[39m\u001b[38;5;124m\"\u001b[39m] \u001b[38;5;241m=\u001b[39m \u001b[38;5;28;01mTrue\u001b[39;00m\n\u001b[1;32m--> 414\u001b[0m \u001b[38;5;28;01mreturn\u001b[39;00m \u001b[43m_superlu\u001b[49m\u001b[38;5;241;43m.\u001b[39;49m\u001b[43mgstrf\u001b[49m\u001b[43m(\u001b[49m\u001b[43mN\u001b[49m\u001b[43m,\u001b[49m\u001b[43m \u001b[49m\u001b[43mA\u001b[49m\u001b[38;5;241;43m.\u001b[39;49m\u001b[43mnnz\u001b[49m\u001b[43m,\u001b[49m\u001b[43m \u001b[49m\u001b[43mA\u001b[49m\u001b[38;5;241;43m.\u001b[39;49m\u001b[43mdata\u001b[49m\u001b[43m,\u001b[49m\u001b[43m \u001b[49m\u001b[43mA\u001b[49m\u001b[38;5;241;43m.\u001b[39;49m\u001b[43mindices\u001b[49m\u001b[43m,\u001b[49m\u001b[43m \u001b[49m\u001b[43mA\u001b[49m\u001b[38;5;241;43m.\u001b[39;49m\u001b[43mindptr\u001b[49m\u001b[43m,\u001b[49m\n\u001b[0;32m    415\u001b[0m \u001b[43m                      \u001b[49m\u001b[43mcsc_construct_func\u001b[49m\u001b[38;5;241;43m=\u001b[39;49m\u001b[43mcsc_construct_func\u001b[49m\u001b[43m,\u001b[49m\n\u001b[0;32m    416\u001b[0m \u001b[43m                      \u001b[49m\u001b[43milu\u001b[49m\u001b[38;5;241;43m=\u001b[39;49m\u001b[38;5;28;43;01mFalse\u001b[39;49;00m\u001b[43m,\u001b[49m\u001b[43m \u001b[49m\u001b[43moptions\u001b[49m\u001b[38;5;241;43m=\u001b[39;49m\u001b[43m_options\u001b[49m\u001b[43m)\u001b[49m\n",
      "\u001b[1;31mRuntimeError\u001b[0m: Factor is exactly singular"
     ]
    }
   ],
   "source": [
    "# Solve the equations\n",
    "eq = eq1 & eq2\n",
    "eq.solve()"
   ]
  },
  {
   "cell_type": "markdown",
   "id": "e076c7b1-3615-4d0f-8ecb-c2f553b29795",
   "metadata": {},
   "source": [
    "Finally, this step wpuld show the water depth and stream velocity in steady state across the length of the specified channel. However, since I could not get the coupled equations to work, they do not change what so ever."
   ]
  },
  {
   "cell_type": "code",
   "execution_count": null,
   "id": "424950b0-5c11-4a1d-9b3c-715d392d8e74",
   "metadata": {},
   "outputs": [],
   "source": [
    "# view stream depth and view stream water velocity (not sure on min and max data values)\n",
    "viewer_h = Viewer(vars=h, datamin=0, datamax=2)\n",
    "viewer_u = Viewer(vars=u, datamin=-1.5, datamax=1.5)\n",
    "viewer_h.plot()\n",
    "viewer_u.plot()"
   ]
  }
 ],
 "metadata": {
  "kernelspec": {
   "display_name": "Python 3 (ipykernel)",
   "language": "python",
   "name": "python3"
  },
  "language_info": {
   "codemirror_mode": {
    "name": "ipython",
    "version": 3
   },
   "file_extension": ".py",
   "mimetype": "text/x-python",
   "name": "python",
   "nbconvert_exporter": "python",
   "pygments_lexer": "ipython3",
   "version": "3.11.5"
  }
 },
 "nbformat": 4,
 "nbformat_minor": 5
}
