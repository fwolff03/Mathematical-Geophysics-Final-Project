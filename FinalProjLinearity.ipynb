{
 "cells": [
  {
   "cell_type": "markdown",
   "id": "97e1b3b1-4e76-4860-a63e-6ee92d4e61b7",
   "metadata": {},
   "source": [
    "# Final Project - St. Venant Equations"
   ]
  },
  {
   "cell_type": "markdown",
   "id": "2bde0764-dcb1-4dee-b593-58b28944fbc3",
   "metadata": {},
   "source": [
    "Finley Wolff\n",
    "\n",
    "Max Ercolani"
   ]
  },
  {
   "cell_type": "markdown",
   "id": "807f4d6b-dcb0-4bd2-b4ba-5f78c3d04090",
   "metadata": {},
   "source": [
    "## Assumptions"
   ]
  },
  {
   "cell_type": "markdown",
   "id": "561b362e-cf2a-4fbf-b9ba-664ceb6a0319",
   "metadata": {},
   "source": [
    "- 1D flow, velocity is uniform across the cross section of flow.\n",
    "\n",
    "- Shallow flow, there is no stratification or differences in pressure across the cross section of flow.\n",
    "\n",
    "\n"
   ]
  },
  {
   "cell_type": "markdown",
   "id": "14a27c78-00f8-4d4b-a51f-f5b0c25b3bfa",
   "metadata": {
    "tags": []
   },
   "source": [
    "## Equation 1: $$\\frac{\\displaystyle \\partial (uh)}{\\displaystyle \\partial x}  = 0$$"
   ]
  },
  {
   "cell_type": "markdown",
   "id": "572a8f96-7b47-4f2c-8419-745ac2265b64",
   "metadata": {},
   "source": [
    "Equation 1 represents continuity, or conservation of mass in this system"
   ]
  },
  {
   "cell_type": "markdown",
   "id": "70e7e833-513a-462c-8195-8e00e13f56a1",
   "metadata": {},
   "source": [
    "## Equation 2: $$\\frac{\\displaystyle \\partial (u^2h)}{\\displaystyle \\partial x} + \\frac{\\displaystyle g}{\\displaystyle 2}\\frac{\\displaystyle \\partial (h^2)}{\\displaystyle \\partial x} = (-\\frac{\\displaystyle (uh)^2}{\\displaystyle h^2} + gh)\\frac{\\displaystyle \\partial h}{\\displaystyle \\partial x} - (1 + gh) \\frac{\\displaystyle n^2u|u|}{\\displaystyle h^{4/3}}$$"
   ]
  },
  {
   "cell_type": "markdown",
   "id": "fc724f23-636f-4569-82ee-70a48cd6751c",
   "metadata": {},
   "source": [
    "Eq2 represents momentum"
   ]
  },
  {
   "cell_type": "markdown",
   "id": "760b3012-8fd9-4660-be27-69897ce1f0c9",
   "metadata": {
    "tags": []
   },
   "source": [
    "## Linearity"
   ]
  },
  {
   "cell_type": "markdown",
   "id": "39503c1d-faae-499e-8387-be5360ed65cd",
   "metadata": {
    "tags": []
   },
   "source": [
    "#### $L_1$ for Equation 1"
   ]
  },
  {
   "cell_type": "markdown",
   "id": "65108e4c-563a-411f-a714-306df0f91adf",
   "metadata": {
    "tags": []
   },
   "source": [
    "where $(Q, A)= (aQ_1 + bQ_2, A)$,\n",
    "\n",
    "$L_1(aQ_1 + bQ_2, A) = 0$\n",
    "\n",
    "$\\frac{\\displaystyle \\partial (aQ_1 + bQ_2)}{\\displaystyle \\partial x} + \\frac{\\displaystyle \\partial A}{\\displaystyle \\partial t} = 0$\n",
    "\n",
    "$a\\frac{\\displaystyle \\partial Q_1}{\\displaystyle \\partial x} + b\\frac{\\displaystyle \\partial Q_2}{\\displaystyle \\partial x} + \\frac{\\displaystyle \\partial A}{\\displaystyle \\partial t} = 0$\n",
    "\n",
    "$a\\frac{\\displaystyle \\partial Q_1}{\\displaystyle \\partial x} + \\frac{\\displaystyle 1}{\\displaystyle 2} \\frac{\\displaystyle \\partial A}{\\displaystyle \\partial t} = -b\\frac{\\displaystyle \\partial Q_2}{\\displaystyle \\partial x} - \\frac{\\displaystyle 1}{\\displaystyle 2}\\frac{\\displaystyle \\partial A}{\\displaystyle \\partial t}$\n",
    "\n",
    "$L_1(aQ_1, \\frac{\\displaystyle A}{\\displaystyle 2}) =-L_1(bQ_2, \\frac{\\displaystyle A}{\\displaystyle 2})$\n",
    "\n",
    "$L_1(aQ_1, \\frac{\\displaystyle A}{\\displaystyle 2}) + L_1(bQ_2, \\frac{\\displaystyle A}{\\displaystyle 2}) = 0$\n",
    "\n",
    "$L_1(aQ_1, \\frac{\\displaystyle A}{\\displaystyle 2}) + L_1(bQ_2, \\frac{\\displaystyle A}{\\displaystyle 2}) = L_1(aQ_1 + bQ_2, A) \\neq L_1(aQ_1, A) + L_1(bQ_2, A)$"
   ]
  },
  {
   "cell_type": "markdown",
   "id": "b7e2caa9-aeb8-4d99-aa55-732b1e533f46",
   "metadata": {
    "tags": []
   },
   "source": [
    "#### $L_2$ for Equation 1"
   ]
  },
  {
   "cell_type": "markdown",
   "id": "4d084d97-2427-43c4-9057-3941407c7d96",
   "metadata": {},
   "source": [
    "where $(Q, A)= (Q, aA_1 + bA_2)$,\n",
    "\n",
    "$L_2(Q, aA_1 + bA_2) = 0$\n",
    "\n",
    "$\\frac{\\displaystyle \\partial (Q)}{\\displaystyle \\partial x} + \\frac{\\displaystyle \\partial (aA_1 + bA_2)}{\\displaystyle \\partial t} = 0$\n",
    "\n",
    "$\\frac{\\displaystyle \\partial Q}{\\displaystyle \\partial x} + a\\frac{\\displaystyle \\partial A_1}{\\displaystyle \\partial t} + b\\frac{\\displaystyle \\partial A_2}{\\displaystyle \\partial x} = 0$\n",
    "\n",
    "$\\frac{\\displaystyle 1}{\\displaystyle 2} \\frac{\\displaystyle \\partial Q}{\\displaystyle \\partial x} + a\\frac{\\displaystyle 1}{\\displaystyle 2} \\frac{\\displaystyle \\partial A_1}{\\displaystyle \\partial t} = -\\frac{\\displaystyle 1}{\\displaystyle 2} \\frac{\\displaystyle \\partial Q}{\\displaystyle \\partial x} - b\\frac{\\displaystyle \\partial A_2}{\\displaystyle \\partial t}$\n",
    "\n",
    "$L_2(\\frac{\\displaystyle Q}{\\displaystyle 2}, aA_1) =-L_2(\\frac{\\displaystyle Q}{\\displaystyle 2}, bA_2)$\n",
    "\n",
    "$L_2(\\frac{\\displaystyle Q}{\\displaystyle 2}, aA_1) + L_2(\\frac{\\displaystyle Q}{\\displaystyle 2}, bA_2) = 0$\n",
    "\n",
    "$L_2(\\frac{\\displaystyle Q}{\\displaystyle 2}, aA_1) + L_2(\\frac{\\displaystyle Q}{\\displaystyle 2}, bA_2) = L_2(Q, aA_1 + bA_2) \\neq L_2(Q, aA_1) + L_2(Q, bA_2)$"
   ]
  },
  {
   "cell_type": "markdown",
   "id": "fea1a936-0aeb-4667-8422-8ec66658c775",
   "metadata": {},
   "source": [
    "Therefore, Equation 1 is a **non linear PDE**"
   ]
  },
  {
   "cell_type": "markdown",
   "id": "b0459072-c179-4a51-ae97-2a54b7a38b23",
   "metadata": {},
   "source": [
    "#### $L_1$\n",
    "\n",
    "where $(Q, h)= (aQ_1 + bQ_2, h)$,\n",
    "\n",
    "$L_1(aQ_1 + bQ_2, h) = $\n",
    "\n",
    "$\\frac{\\displaystyle \\partial h}{\\displaystyle \\partial x} - S_0 + \\frac{\\displaystyle (aQ_1 + bQ_2)|(aQ_1 + bQ_2)|}{\\displaystyle K^2}$\n",
    "\n",
    "$\\frac{\\displaystyle \\partial h}{\\displaystyle \\partial x} - S_0 + \\frac{\\displaystyle (|aQ_1|aQ_1 + |aQ_1|bQ_2 + aQ_1|bQ_2| + bQ_2|bQ_2|)}{\\displaystyle K^2}$\n",
    "\n",
    "$L_1(aQ_1) + L_1(bQ_2, h) = $\n",
    "\n",
    "$\\frac{\\displaystyle 2\\partial h}{\\displaystyle \\partial x} - 2S_0 + \\frac{\\displaystyle aQ_1|aQ_1|}{\\displaystyle K^2} + \\frac{\\displaystyle bQ_2|bQ_2|}{\\displaystyle K^2}$\n",
    "\n",
    "And because:\n",
    "\n",
    "$\\frac{\\displaystyle \\partial h}{\\displaystyle \\partial x} - S_0 + \\frac{\\displaystyle (|aQ_1|aQ_1 + |aQ_1|bQ_2 + aQ_1|bQ_2| + bQ_2|bQ_2|)}{\\displaystyle K^2} \\neq \\frac{\\displaystyle 2\\partial h}{\\displaystyle \\partial x} - 2S_0 + \\frac{\\displaystyle aQ_1|aQ_1|}{\\displaystyle K^2} + \\frac{\\displaystyle bQ_2|bQ_2|}{\\displaystyle K^2}$\n",
    "\n",
    "Equation 2 is also a **non linear PDE**"
   ]
  },
  {
   "cell_type": "markdown",
   "id": "f8236510-f9e4-4de0-b476-0dd4b3d49c75",
   "metadata": {
    "tags": []
   },
   "source": [
    "## Superposition"
   ]
  },
  {
   "cell_type": "markdown",
   "id": "e5466e10-df22-4b81-8851-ddf8ef67d375",
   "metadata": {},
   "source": [
    "Because Equations 1 and 2 are non linear, and inhomogeneous, **niether of them have any property of superposition**"
   ]
  }
 ],
 "metadata": {
  "kernelspec": {
   "display_name": "Python 3 (ipykernel)",
   "language": "python",
   "name": "python3"
  },
  "language_info": {
   "codemirror_mode": {
    "name": "ipython",
    "version": 3
   },
   "file_extension": ".py",
   "mimetype": "text/x-python",
   "name": "python",
   "nbconvert_exporter": "python",
   "pygments_lexer": "ipython3",
   "version": "3.9.13"
  }
 },
 "nbformat": 4,
 "nbformat_minor": 5
}
