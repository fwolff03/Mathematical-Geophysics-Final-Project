{
 "cells": [
  {
   "cell_type": "markdown",
   "id": "97e1b3b1-4e76-4860-a63e-6ee92d4e61b7",
   "metadata": {},
   "source": [
    "# GPGN 229 Final Project - St. Venant Equations"
   ]
  },
  {
   "cell_type": "markdown",
   "id": "2bde0764-dcb1-4dee-b593-58b28944fbc3",
   "metadata": {},
   "source": [
    "Finley Wolff\n",
    "\n",
    "Max Ercolani"
   ]
  },
  {
   "cell_type": "markdown",
   "id": "e4cda923-f4af-4e4f-a05d-c19388ef2a01",
   "metadata": {},
   "source": [
    "## Applications"
   ]
  },
  {
   "cell_type": "markdown",
   "id": "b83593c8-ff90-41cd-931b-30be862be58e",
   "metadata": {},
   "source": [
    "The St. Venant system of equations models unsteady open channel flows. This allows modelling of systems such as rivers, stormwater systems, irrigation channels, hydropower channels, and spillway systems, to optimize those sytems, and to avoid flooding."
   ]
  },
  {
   "cell_type": "markdown",
   "id": "14a27c78-00f8-4d4b-a51f-f5b0c25b3bfa",
   "metadata": {
    "tags": []
   },
   "source": [
    "## Equation 1: $$\\frac{\\displaystyle \\partial (uh)}{\\displaystyle \\partial x}  = 0$$"
   ]
  },
  {
   "cell_type": "markdown",
   "id": "572a8f96-7b47-4f2c-8419-745ac2265b64",
   "metadata": {},
   "source": [
    "Equation 1 represents continuity, or conservation of mass in this system"
   ]
  },
  {
   "cell_type": "markdown",
   "id": "70e7e833-513a-462c-8195-8e00e13f56a1",
   "metadata": {},
   "source": [
    "## Equation 2: $$\\frac{\\displaystyle \\partial (u^2h)}{\\displaystyle \\partial x} + \\frac{\\displaystyle g}{\\displaystyle 2}\\frac{\\displaystyle \\partial (h^2)}{\\displaystyle \\partial x} + (\\frac{\\displaystyle (uh)^2}{\\displaystyle h^2} - gh)\\frac{\\displaystyle \\partial h}{\\displaystyle \\partial x} + (1 + gh) \\frac{\\displaystyle n^2u|u|}{\\displaystyle h^{4/3}} = 0$$"
   ]
  },
  {
   "cell_type": "markdown",
   "id": "fc724f23-636f-4569-82ee-70a48cd6751c",
   "metadata": {},
   "source": [
    "Eq2 represents momentum"
   ]
  },
  {
   "cell_type": "markdown",
   "id": "d978713b-4cb5-4139-97f1-f42c8ca9a14a",
   "metadata": {},
   "source": [
    "## Assumptions"
   ]
  },
  {
   "cell_type": "markdown",
   "id": "561b362e-cf2a-4fbf-b9ba-664ceb6a0319",
   "metadata": {},
   "source": [
    "- 1D flow, velocity is uniform across the cross section of flow.\n",
    "\n",
    "- Minimal curvature of the stream, there is no stratification of the water, or differences in pressure vertically.\n",
    "\n",
    "- Manning's equation for friction\n",
    "\n",
    "- Low incline of flow. The bed slope $\\theta$ is small enough to satisfy $cos\\theta \\approx 1$, and $sine\\theta \\approx tan\\theta$\n",
    "\n",
    "- Fluid maintains a constant density (incompressible)\n",
    "\n",
    "- No sediment transport or deposition\n"
   ]
  },
  {
   "cell_type": "markdown",
   "id": "760b3012-8fd9-4660-be27-69897ce1f0c9",
   "metadata": {
    "tags": []
   },
   "source": [
    "## Linearity"
   ]
  },
  {
   "cell_type": "markdown",
   "id": "39503c1d-faae-499e-8387-be5360ed65cd",
   "metadata": {
    "tags": []
   },
   "source": [
    "#### $L_1$ for Equation 1"
   ]
  },
  {
   "cell_type": "markdown",
   "id": "65108e4c-563a-411f-a714-306df0f91adf",
   "metadata": {
    "tags": []
   },
   "source": [
    "$(u, h)= (au_1 + bu_2, h)$ where *a* and *b* are constants in $\\mathbb{R}$,\n",
    "\n",
    "$L_1(au_1 + bu_2, h) = 0$\n",
    "\n",
    "$\\frac{\\displaystyle \\partial (au_1 + bu_2) h}{\\displaystyle \\partial x}= 0$\n",
    "\n",
    "$a\\frac{\\displaystyle \\partial u_1h}{\\displaystyle \\partial x} + b\\frac{\\displaystyle \\partial u_2h}{\\displaystyle \\partial x} = 0$\n",
    "\n",
    "$= aL_1(u_1, h) + bL_1(u_2, h)$\n"
   ]
  },
  {
   "cell_type": "markdown",
   "id": "b7e2caa9-aeb8-4d99-aa55-732b1e533f46",
   "metadata": {
    "tags": []
   },
   "source": [
    "#### $L_2$ for Equation 1"
   ]
  },
  {
   "cell_type": "markdown",
   "id": "4d084d97-2427-43c4-9057-3941407c7d96",
   "metadata": {},
   "source": [
    "$(u, h)= (u, ah_1 + bh_2)$ where *a* and *b* are constants in $\\mathbb{R}$,\n",
    "\n",
    "$L_2(u, ah_1 + bh_2) = 0$\n",
    "\n",
    "$\\frac{\\displaystyle \\partial u (ah_1 + bh_2)}{\\displaystyle \\partial x}= 0$\n",
    "\n",
    "$a\\frac{\\displaystyle \\partial uh_1}{\\displaystyle \\partial x} + b\\frac{\\displaystyle \\partial uh_2}{\\displaystyle \\partial x} = 0$\n",
    "\n",
    "$= aL_1(u, h_1) + bL_1(u, h_2)$"
   ]
  },
  {
   "cell_type": "markdown",
   "id": "fea1a936-0aeb-4667-8422-8ec66658c775",
   "metadata": {},
   "source": [
    "Therefore, Equation 1 is a **linear PDE**"
   ]
  },
  {
   "cell_type": "markdown",
   "id": "d37232f2-489f-4bf9-bd76-4438c431ffad",
   "metadata": {},
   "source": [
    "#### $L_1$ for Equation 2"
   ]
  },
  {
   "cell_type": "markdown",
   "id": "b0459072-c179-4a51-ae97-2a54b7a38b23",
   "metadata": {},
   "source": [
    "$(u, h)= (au_1 + bu_2, h)$ where *a* and *b* are constants in $\\mathbb{R}$,\n",
    "\n",
    "$L_1(au_1 + bu_2, h) = 0$\n",
    "\n",
    "$\\frac{\\displaystyle \\partial ((au_1 + bu_2)^2h)}{\\displaystyle \\partial x} + \\frac{\\displaystyle g}{\\displaystyle 2}\\frac{\\displaystyle \\partial (h^2)}{\\displaystyle \\partial x} + (\\frac{\\displaystyle ((au_1 + bu_2)h)^2}{\\displaystyle h^2} - gh)\\frac{\\displaystyle \\partial h}{\\displaystyle \\partial x} + (1 + gh) \\frac{\\displaystyle n^2(au_1 + bu_2)|(au_1 + bu_2)|}{\\displaystyle h^{4/3}} = 0$\n",
    "\n",
    "Because of the various instances of the polynomial (au_1 + bu_2) being squared, the left hand side of the equation cannot be manipulated into the form of:\n",
    "\n",
    "$aL_1(u, h_1) + bL_1(u, h_2)$\n",
    "\n",
    "meaning, $L_1(au_1 + bu_2, h) \\neq aL_1(u, h_1) + bL_1(u, h_2)$.\n",
    "\n",
    "Equation 2 is, therefore, a **non linear PDE**, unless u, h are scalar values in $\\mathbb{R}$, and u is 0, then Equation 2 is a **linear PDE**"
   ]
  },
  {
   "cell_type": "markdown",
   "id": "f8236510-f9e4-4de0-b476-0dd4b3d49c75",
   "metadata": {
    "tags": []
   },
   "source": [
    "## Superposition"
   ]
  },
  {
   "cell_type": "markdown",
   "id": "e5466e10-df22-4b81-8851-ddf8ef67d375",
   "metadata": {},
   "source": [
    "Equation 1 is linear and homogeneous, \n",
    "\n",
    "assume $q = uh$\n",
    "\n",
    "$(q)= (q_1 + q_2)$ where *a* and *b* are constants in $\\mathbb{R}$,\n",
    "\n",
    "$g(q_1x + q_2x) = L_1(aq_1 + bq_2)$\n",
    "\n",
    "$ g = a_0L(q_1) + b_0L(q_2)$\n",
    "\n",
    "$ g = a_0g + b_0g$\n",
    "\n",
    "$a_0 + b_0 = 1$\n",
    "\n",
    "Thus, Equation 1 **has a property of superposition** if the coefficients of the solutions of the homogeneous equation being combined sum to 1."
   ]
  },
  {
   "cell_type": "markdown",
   "id": "98ce425c-ce70-4cef-8c11-28b53cee9da5",
   "metadata": {},
   "source": [
    "Equation 2 is non linear, and inhomogeneous, and **does not have any property of superposition**"
   ]
  },
  {
   "cell_type": "markdown",
   "id": "e6b19600-83d4-48df-a992-a669c502d489",
   "metadata": {},
   "source": [
    "## Sources\n",
    "\n",
    "Ngoc Tuoi Vo Thi. One dimensional Saint-Venant system. Analysis of PDEs [math.AP]. 2008. ffdumas00597434f\n",
    "\n",
    "Kader, M. , Badé, R. and Saley, B. (2020) Study of the 1D Saint-Venant Equations and Application to the Simulation of a Flood Problem. Journal of Applied Mathematics and Physics, 8, 1193-1206. doi: 10.4236/jamp.2020.87090.\n",
    "\n"
   ]
  }
 ],
 "metadata": {
  "kernelspec": {
   "display_name": "Python 3 (ipykernel)",
   "language": "python",
   "name": "python3"
  },
  "language_info": {
   "codemirror_mode": {
    "name": "ipython",
    "version": 3
   },
   "file_extension": ".py",
   "mimetype": "text/x-python",
   "name": "python",
   "nbconvert_exporter": "python",
   "pygments_lexer": "ipython3",
   "version": "3.9.13"
  }
 },
 "nbformat": 4,
 "nbformat_minor": 5
}
